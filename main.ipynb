{
 "cells": [
  {
   "cell_type": "markdown",
   "metadata": {},
   "source": [
    "1. This project scrapes the data in a website and stores the results in a text file, `commodity_prices.txt` and a SQLite database,  `CommodityDatabase.db`\n",
    "2. It stores the current prices of the following commodities :\n",
    "   1. Crude Oil\n",
    "   2. Gold\n",
    "   3. Silver\n",
    "3. In the SQLite database, the data is stored in a table named `CommodityTable` with the following columns :\n",
    "\n",
    "| Ticker  | Price  |\n",
    "| ------- | ------ |\n",
    "| `TEXT`  | `REAL` |\n",
    "\n",
    "---"
   ]
  },
  {
   "cell_type": "code",
   "execution_count": 1,
   "metadata": {},
   "outputs": [],
   "source": [
    "from bs4 import BeautifulSoup\n",
    "import requests\n",
    "\n",
    "\n",
    "WEBSITE_URL = \"https://finance.yahoo.com/trending-tickers\"\n",
    "data_points_required = ['Crude Oil', 'Gold', 'Silver']\n",
    "data_points = {}\n",
    "\n",
    "\n",
    "source = requests.get(WEBSITE_URL).text\n",
    "soup = BeautifulSoup(source, 'lxml')\n",
    "\n",
    "for data_point in data_points_required:\n",
    "  data_point_div = soup.find('li', attrs={'aria-label': data_point})\n",
    "\n",
    "  if data_point_div is not None:\n",
    "    data_point_price = data_point_div.h3.find('fin-streamer').text\n",
    "    data_points[data_point] = data_point_price\n"
   ]
  },
  {
   "cell_type": "markdown",
   "metadata": {},
   "source": [
    "---\n",
    "\n",
    "The following cell creates a `CommodityDatabase.db`, and inserts the data into the table `CommodityTable`."
   ]
  },
  {
   "cell_type": "code",
   "execution_count": 2,
   "metadata": {},
   "outputs": [],
   "source": [
    "import sqlite3\n",
    "\n",
    "DB_NAME = 'CommodityDatabase.db'\n",
    "TABLE_NAME = 'CommodityTable'\n",
    "\n",
    "conn = sqlite3.connect(DB_NAME)\n",
    "\n",
    "c = conn.cursor()\n",
    "\n",
    "# Drop the CommodityTable table if it exists\n",
    "c.execute(\"DROP TABLE IF EXISTS \" + TABLE_NAME)\n",
    "\n",
    "# Create the CommoodityTable table\n",
    "c.execute(\"CREATE TABLE \" + TABLE_NAME + \" (name TEXT, price REAL)\")\n",
    "\n",
    "# Insert data into CommoodityTable\n",
    "for key, value in data_points.items():\n",
    "  c.execute(\"INSERT INTO \" + TABLE_NAME + \" VALUES (?, ?)\", (key, value))\n",
    "\n",
    "conn.commit()\n",
    "conn.close()\n"
   ]
  },
  {
   "cell_type": "markdown",
   "metadata": {},
   "source": [
    "---\n",
    "\n",
    "The following cell creates a text file, `commodity_prices.txt` in the directory and stores the data in it."
   ]
  },
  {
   "cell_type": "code",
   "execution_count": 3,
   "metadata": {},
   "outputs": [],
   "source": [
    "import os\n",
    "\n",
    "FILE_NAME = 'commodity_prices.txt'\n",
    "\n",
    "# Delete the file if it exists\n",
    "if os.path.exists(FILE_NAME):\n",
    "  os.remove(FILE_NAME)\n",
    "\n",
    "\n",
    "with open('commodity_prices.txt', 'w') as f:\n",
    "  for key, value in data_points.items():\n",
    "    f.write(key + \" : \" + value + \"\\n\")\n"
   ]
  },
  {
   "cell_type": "markdown",
   "metadata": {},
   "source": []
  }
 ],
 "metadata": {
  "kernelspec": {
   "display_name": "env",
   "language": "python",
   "name": "python3"
  },
  "language_info": {
   "codemirror_mode": {
    "name": "ipython",
    "version": 3
   },
   "file_extension": ".py",
   "mimetype": "text/x-python",
   "name": "python",
   "nbconvert_exporter": "python",
   "pygments_lexer": "ipython3",
   "version": "3.11.5"
  }
 },
 "nbformat": 4,
 "nbformat_minor": 2
}
